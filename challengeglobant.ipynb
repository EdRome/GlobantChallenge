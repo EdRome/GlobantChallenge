{
 "cells": [
  {
   "cell_type": "code",
   "execution_count": 1,
   "id": "bc601937",
   "metadata": {
    "_cell_guid": "b1076dfc-b9ad-4769-8c92-a6c4dae69d19",
    "_uuid": "8f2839f25d086af736a60e9eeb907d3b93b6e0e5",
    "execution": {
     "iopub.execute_input": "2024-09-27T21:00:18.891948Z",
     "iopub.status.busy": "2024-09-27T21:00:18.891412Z",
     "iopub.status.idle": "2024-09-27T21:00:19.997242Z",
     "shell.execute_reply": "2024-09-27T21:00:19.995713Z"
    },
    "papermill": {
     "duration": 1.12242,
     "end_time": "2024-09-27T21:00:20.000442",
     "exception": false,
     "start_time": "2024-09-27T21:00:18.878022",
     "status": "completed"
    },
    "tags": []
   },
   "outputs": [],
   "source": [
    "import os\n",
    "import xml.etree.ElementTree as ET\n",
    "import pandas as pd"
   ]
  },
  {
   "cell_type": "markdown",
   "id": "97a678e3",
   "metadata": {
    "papermill": {
     "duration": 0.009243,
     "end_time": "2024-09-27T21:00:20.019691",
     "exception": false,
     "start_time": "2024-09-27T21:00:20.010448",
     "status": "completed"
    },
    "tags": []
   },
   "source": [
    "# Discovery\n",
    "\n",
    "Before starting I need to understand the file type of the dataset, by listing all file in the directory and getting all file extension I can easily know the file type, therefore dealing with them accordingly."
   ]
  },
  {
   "cell_type": "code",
   "execution_count": 2,
   "id": "fa6c8cf6",
   "metadata": {
    "execution": {
     "iopub.execute_input": "2024-09-27T21:00:20.041676Z",
     "iopub.status.busy": "2024-09-27T21:00:20.040852Z",
     "iopub.status.idle": "2024-09-27T21:00:20.373099Z",
     "shell.execute_reply": "2024-09-27T21:00:20.371526Z"
    },
    "papermill": {
     "duration": 0.347155,
     "end_time": "2024-09-27T21:00:20.376431",
     "exception": false,
     "start_time": "2024-09-27T21:00:20.029276",
     "status": "completed"
    },
    "tags": []
   },
   "outputs": [
    {
     "data": {
      "text/plain": [
       "{'.xml'}"
      ]
     },
     "execution_count": 2,
     "metadata": {},
     "output_type": "execute_result"
    }
   ],
   "source": [
    "# - os.listdir list all file in the directory\n",
    "# - os.path.splittext divide the filename into filename and extension, it returns a tuple and \n",
    "# the second element is the extension\n",
    "# - set returns the unique file extensions.\n",
    "xml_list_files = os.listdir('/kaggle/input/nsf-research-awards-abstracts')\n",
    "set([os.path.splitext(file)[1] for file in xml_list_files])"
   ]
  },
  {
   "cell_type": "markdown",
   "id": "1c2c4f9f",
   "metadata": {
    "papermill": {
     "duration": 0.009328,
     "end_time": "2024-09-27T21:00:20.396203",
     "exception": false,
     "start_time": "2024-09-27T21:00:20.386875",
     "status": "completed"
    },
    "tags": []
   },
   "source": [
    "Since all files are XML, I'll be using ElemntTree from python that parse the file into a tree format to process and analyze it correctly.\n",
    "\n",
    "The XML content starts at `rootTag` that nestes `Award`. It contains lot of information like the title, agency, award expiration date, award amount, abstract, and much more.\n",
    "\n",
    "Since all this information not necessarly to classify all awards by topic, I'll be focusing in only three fields:\n",
    "\n",
    "1. `AwardTitle`: This will serve as a summary on the abstract. *Hypothesis*: Provides context about the topic.\n",
    "2. `Division`: The Division name could provide more information of the topic. *Hypothesis*: Each division will focus on knowledge areas.\n",
    "3. `AbstractNarration`: The abstract of the award, this has the more useful information to clusterize."
   ]
  },
  {
   "cell_type": "code",
   "execution_count": 3,
   "id": "881a4b16",
   "metadata": {
    "execution": {
     "iopub.execute_input": "2024-09-27T21:00:20.418546Z",
     "iopub.status.busy": "2024-09-27T21:00:20.417273Z",
     "iopub.status.idle": "2024-09-27T21:00:20.430450Z",
     "shell.execute_reply": "2024-09-27T21:00:20.428960Z"
    },
    "papermill": {
     "duration": 0.027571,
     "end_time": "2024-09-27T21:00:20.433399",
     "exception": false,
     "start_time": "2024-09-27T21:00:20.405828",
     "status": "completed"
    },
    "tags": []
   },
   "outputs": [
    {
     "name": "stdout",
     "output_type": "stream",
     "text": [
      "AwardTitle\n",
      "AGENCY\n",
      "AwardEffectiveDate\n",
      "AwardExpirationDate\n",
      "AwardTotalIntnAmount\n",
      "AwardAmount\n",
      "AwardInstrument\n",
      "Organization\n",
      "ProgramOfficer\n",
      "AbstractNarration\n",
      "MinAmdLetterDate\n",
      "MaxAmdLetterDate\n",
      "ARRAAmount\n",
      "TRAN_TYPE\n",
      "CFDA_NUM\n",
      "NSF_PAR_USE_FLAG\n",
      "FUND_AGCY_CODE\n",
      "AWDG_AGCY_CODE\n",
      "AwardID\n",
      "Investigator\n",
      "Institution\n",
      "Performance_Institution\n",
      "ProgramElement\n",
      "ProgramReference\n",
      "ProgramReference\n",
      "ProgramReference\n",
      "Appropriation\n",
      "Fund\n",
      "FUND_OBLG\n",
      "POR\n"
     ]
    }
   ],
   "source": [
    "tree = ET.parse('/kaggle/input/nsf-research-awards-abstracts/2000009.xml')\n",
    "root = tree.getroot()\n",
    "award = root.find(\"Award\")\n",
    "for child in award:\n",
    "    print(child.tag)"
   ]
  },
  {
   "cell_type": "markdown",
   "id": "96275744",
   "metadata": {
    "papermill": {
     "duration": 0.009787,
     "end_time": "2024-09-27T21:00:20.454374",
     "exception": false,
     "start_time": "2024-09-27T21:00:20.444587",
     "status": "completed"
    },
    "tags": []
   },
   "source": [
    "The dataset contains more than 13 thousand documents. To optimize the consumptions I'll be using iterators. My first thought was to use recursive functions; however, python has a limitation in the maximum recursion depth.\n",
    "\n",
    "On the other hand, iterators are lazy evaluators, being helpful to read a lot of files only when needed.\n",
    "\n",
    "To be more memory efficient, first I'll split the `xml_list_files` into training and test set. After that, I'll create batches on training data, so the consumptions will be faster."
   ]
  },
  {
   "cell_type": "code",
   "execution_count": 4,
   "id": "7a5594f6",
   "metadata": {
    "execution": {
     "iopub.execute_input": "2024-09-27T21:00:20.476782Z",
     "iopub.status.busy": "2024-09-27T21:00:20.476230Z",
     "iopub.status.idle": "2024-09-27T21:00:20.482644Z",
     "shell.execute_reply": "2024-09-27T21:00:20.481338Z"
    },
    "papermill": {
     "duration": 0.020663,
     "end_time": "2024-09-27T21:00:20.485101",
     "exception": false,
     "start_time": "2024-09-27T21:00:20.464438",
     "status": "completed"
    },
    "tags": []
   },
   "outputs": [],
   "source": [
    "# Recursive function. Not used because of maximum recursion depth\n",
    "# def parsing_docs(doc_list):\n",
    "#     docs = []\n",
    "#     directory = '/kaggle/input/nsf-research-awards-abstracts/'\n",
    "    \n",
    "#     # recursive case\n",
    "#     if len(doc_list) > 0:\n",
    "#         doc = doc_list[0]\n",
    "#         full_dir = os.path.join(directory, doc)\n",
    "#         award_title = ET.parse(full_dir).find(\"./Award/AwardTitle\")\n",
    "#         organization = ET.parse(full_dir).find(\"./Award/Organization\")\n",
    "#         abstract_narration = ET.parse(full_dir).find(\"./Award/AbstractNarration\")\n",
    "#         docs.append((award_title, organization, abstract_narration))\n",
    "#         docs.extend(parsing_docs(doc_list[1:]))\n",
    "        \n",
    "#     return docs"
   ]
  },
  {
   "cell_type": "code",
   "execution_count": 5,
   "id": "42004761",
   "metadata": {
    "execution": {
     "iopub.execute_input": "2024-09-27T21:00:20.507184Z",
     "iopub.status.busy": "2024-09-27T21:00:20.506626Z",
     "iopub.status.idle": "2024-09-27T21:00:22.099212Z",
     "shell.execute_reply": "2024-09-27T21:00:22.097823Z"
    },
    "papermill": {
     "duration": 1.607362,
     "end_time": "2024-09-27T21:00:22.102584",
     "exception": false,
     "start_time": "2024-09-27T21:00:20.495222",
     "status": "completed"
    },
    "tags": []
   },
   "outputs": [],
   "source": [
    "from sklearn.model_selection import train_test_split\n",
    "\n",
    "# Split the list into train and test\n",
    "train_list, test_list = train_test_split(xml_list_files, test_size=0.33, shuffle=True)"
   ]
  },
  {
   "cell_type": "code",
   "execution_count": 6,
   "id": "9be40550",
   "metadata": {
    "execution": {
     "iopub.execute_input": "2024-09-27T21:00:22.125467Z",
     "iopub.status.busy": "2024-09-27T21:00:22.124692Z",
     "iopub.status.idle": "2024-09-27T21:00:22.135411Z",
     "shell.execute_reply": "2024-09-27T21:00:22.134147Z"
    },
    "papermill": {
     "duration": 0.025565,
     "end_time": "2024-09-27T21:00:22.138277",
     "exception": false,
     "start_time": "2024-09-27T21:00:22.112712",
     "status": "completed"
    },
    "tags": []
   },
   "outputs": [],
   "source": [
    "class CreateTrainingBatches:\n",
    "    \"\"\"\n",
    "    This class is used to yield an iterator of fixed size. Size is calculated during initialization and used the\n",
    "    training size and the number of batches to produce the output. Number of batches is configurable\n",
    "    \"\"\"\n",
    "    \n",
    "    def __init__(self, train_set, num_batches=4):\n",
    "        self.__train_set = train_set\n",
    "        # Define the batch size and the number of batches\n",
    "        self.__num_batches = num_batches\n",
    "        self.__train_size = len(self.__train_set)\n",
    "        self.__batch_size = round(self.__train_size / self.__num_batches)\n",
    "        \n",
    "    def create_batches(self):\n",
    "        # Yield an iterator\n",
    "        for i in range(self.__num_batches):\n",
    "            yield self.__train_set[i*self.__batch_size:(i+1)*self.__batch_size]"
   ]
  },
  {
   "cell_type": "code",
   "execution_count": 7,
   "id": "586a9e25",
   "metadata": {
    "execution": {
     "iopub.execute_input": "2024-09-27T21:00:22.160522Z",
     "iopub.status.busy": "2024-09-27T21:00:22.159918Z",
     "iopub.status.idle": "2024-09-27T21:00:22.178850Z",
     "shell.execute_reply": "2024-09-27T21:00:22.177660Z"
    },
    "papermill": {
     "duration": 0.033857,
     "end_time": "2024-09-27T21:00:22.182077",
     "exception": false,
     "start_time": "2024-09-27T21:00:22.148220",
     "status": "completed"
    },
    "tags": []
   },
   "outputs": [],
   "source": [
    "class XMLProcessor:\n",
    "    \"\"\"\n",
    "    Class dedicated to process XML, the input must be an iterator, so the processing is the most memory efficient as possible.\n",
    "    The process method will read the input iterator each time is called, when the iterator is empty, it will print a message.\n",
    "    \"\"\"\n",
    "    \n",
    "    def __init__(self, batches: iter):\n",
    "        self.__batches = batches\n",
    "    \n",
    "    def filter_xml_element(self, file_path):\n",
    "        \"\"\"\n",
    "        Filter the tasg of interest. This function can be modified to get any other tag of interest.\n",
    "        However, changing this implies to modify the convert_to_dataframe function and the get_text_elements\n",
    "        in case the new tag needs further processing.\n",
    "        \"\"\"\n",
    "        tags_of_interest = {'AwardTitle','Organization','AbstractNarration'}\n",
    "        context = ET.iterparse(file_path)\n",
    "        return filter(lambda xml: xml[1].tag in tags_of_interest, context)\n",
    "\n",
    "    def process_files(self, xml_file):\n",
    "        \"\"\"\n",
    "        Maps the filtering functions to each xml.\n",
    "        \"\"\"\n",
    "        return map(lambda file: self.filter_xml_element(file), xml_file)\n",
    "\n",
    "    def prepare_files(self, lst):\n",
    "        \"\"\"\n",
    "        The input list is full of names only. This function concat the \n",
    "        XML directory to the filename.\n",
    "        \"\"\"\n",
    "        xml_dir = '/kaggle/input/nsf-research-awards-abstracts'\n",
    "        return map(lambda file: os.path.join(xml_dir, file), lst)\n",
    "\n",
    "    def get_text_elements(self, xml):\n",
    "        \"\"\"\n",
    "        It get the text data from the filtered tags. Only organization recieves a particular\n",
    "        case since the function looks for Division - LongName.\n",
    "        \"\"\"\n",
    "        if xml[1].tag == 'Organization':\n",
    "            # Search for Division tag inside Organization\n",
    "            division = [elem for elem in xml[1] if elem.tag == 'Division']\n",
    "            # Inside Division, search to LongName (the name of the division)\n",
    "            long_name = [elem for elem in division[0] if elem.tag == 'LongName']\n",
    "            return long_name[0].text\n",
    "        else:\n",
    "            return xml[1].text\n",
    "\n",
    "    def get_data_from_generator(self, data):\n",
    "        \"\"\"\n",
    "        It maps the get_text_element to generate a list of text data\n",
    "        \"\"\"\n",
    "        return [map(lambda x: self.get_text_elements(x), elem) for elem in data]\n",
    "\n",
    "    def convert_to_dataframe(self, text_data):\n",
    "        \"\"\"\n",
    "        Conver the input text in list format into a dataframe for further processing\n",
    "        \"\"\"\n",
    "        return pd.DataFrame(\n",
    "            data=[list(data) for data in text_data],\n",
    "            columns=['AwardTitle','Division','AbstractNarration']\n",
    "        )\n",
    "\n",
    "    def process(self):\n",
    "        \"\"\"\n",
    "        Main function of the class\n",
    "        \"\"\"\n",
    "        try:\n",
    "            lst = next(self.__batches)\n",
    "\n",
    "            xml_files = self.prepare_files(lst)\n",
    "            xml_data = self.process_files(xml_files)\n",
    "            xml_text_data = self.get_data_from_generator(xml_data)\n",
    "            return self.convert_to_dataframe(xml_text_data).assign(file = lst)\n",
    "        except StopIteration:\n",
    "            print(\"Iterator is empty\")"
   ]
  },
  {
   "cell_type": "code",
   "execution_count": 8,
   "id": "863535db",
   "metadata": {
    "execution": {
     "iopub.execute_input": "2024-09-27T21:00:22.204958Z",
     "iopub.status.busy": "2024-09-27T21:00:22.204448Z",
     "iopub.status.idle": "2024-09-27T21:00:35.876794Z",
     "shell.execute_reply": "2024-09-27T21:00:35.875021Z"
    },
    "papermill": {
     "duration": 13.687935,
     "end_time": "2024-09-27T21:00:35.880712",
     "exception": false,
     "start_time": "2024-09-27T21:00:22.192777",
     "status": "completed"
    },
    "tags": []
   },
   "outputs": [],
   "source": [
    "batch_gen = CreateTrainingBatches(train_list)\n",
    "it = batch_gen.create_batches()\n",
    "\n",
    "xml_pr = XMLProcessor(it)\n",
    "# This method will generate a new dataframe each time is called.\n",
    "# This way I can explore a sample of 2 thousand records and, when needed, call the next 2 thounsand until the iterator is empty\n",
    "# When the last one occurs, it will print a message.\n",
    "df1 = xml_pr.process()"
   ]
  },
  {
   "cell_type": "code",
   "execution_count": 9,
   "id": "cbf051b4",
   "metadata": {
    "execution": {
     "iopub.execute_input": "2024-09-27T21:00:35.903682Z",
     "iopub.status.busy": "2024-09-27T21:00:35.903104Z",
     "iopub.status.idle": "2024-09-27T21:00:35.909800Z",
     "shell.execute_reply": "2024-09-27T21:00:35.908490Z"
    },
    "papermill": {
     "duration": 0.021495,
     "end_time": "2024-09-27T21:00:35.912578",
     "exception": false,
     "start_time": "2024-09-27T21:00:35.891083",
     "status": "completed"
    },
    "tags": []
   },
   "outputs": [],
   "source": [
    "def read_single_xml(file):\n",
    "    xml_dir = '/kaggle/input/nsf-research-awards-abstracts'\n",
    "    filename = os.path.join(xml_dir, file)\n",
    "    return ET.parse(filename)"
   ]
  },
  {
   "cell_type": "markdown",
   "id": "250452b6",
   "metadata": {
    "papermill": {
     "duration": 0.010179,
     "end_time": "2024-09-27T21:00:35.932984",
     "exception": false,
     "start_time": "2024-09-27T21:00:35.922805",
     "status": "completed"
    },
    "tags": []
   },
   "source": [
    "# EDA\n",
    "\n",
    "To begin, I start with a sample of the training set doing the following steps:\n",
    "\n",
    "1. **Remove empty records:** Since we are trying to clusterize all the XML, it is necessary to understand the context of the data including the empty records. This will help me understand if there are files that required special treatment and decided whether the effort is worthy. In case their emptiness is because the XML file comes in that format or the effort is not worthy because of the impact into the data, I will drop them instead.\n",
    "2. **Convert all text to lowercase:** Doing NLP requirest to standarize incoming text. To do so, the first step is lowercast everything.\n",
    "3. **Remove punctuation:** Dots, commas, semicolon, etc. doesn't provide any relevant information to context of the string.\n",
    "4. **Define and remove stopwords:** These are repetitive words like `the`, `is`, `are`, etc. Since they are mayority in any text, they will introduce noise into the model when trying to identify patterns.\n",
    "5. **Lemmatization:** Reduce words to their base form. For example, running into run. This reduce the vocabulary necessary to be learned."
   ]
  },
  {
   "cell_type": "code",
   "execution_count": 10,
   "id": "7437c654",
   "metadata": {
    "execution": {
     "iopub.execute_input": "2024-09-27T21:00:35.955221Z",
     "iopub.status.busy": "2024-09-27T21:00:35.954681Z",
     "iopub.status.idle": "2024-09-27T21:00:35.969825Z",
     "shell.execute_reply": "2024-09-27T21:00:35.968581Z"
    },
    "papermill": {
     "duration": 0.029583,
     "end_time": "2024-09-27T21:00:35.972493",
     "exception": false,
     "start_time": "2024-09-27T21:00:35.942910",
     "status": "completed"
    },
    "tags": []
   },
   "outputs": [
    {
     "data": {
      "text/plain": [
       "AwardTitle            0\n",
       "Division              0\n",
       "AbstractNarration    25\n",
       "file                  0\n",
       "dtype: int64"
      ]
     },
     "execution_count": 10,
     "metadata": {},
     "output_type": "execute_result"
    }
   ],
   "source": [
    "# I didn't expect to have empty values in AbstractNarration. \n",
    "# They are not a lot, I can assume that the other training batches have more or less the same number of empty AbstractNarration columns (they are shuffled)\n",
    "# Just to confirm that I'm not missing something, I will get one of this files and reviwed by hand to ensure there are not exceptions.\n",
    "df1.isna().sum()"
   ]
  },
  {
   "cell_type": "code",
   "execution_count": 11,
   "id": "161104d8",
   "metadata": {
    "execution": {
     "iopub.execute_input": "2024-09-27T21:00:35.995002Z",
     "iopub.status.busy": "2024-09-27T21:00:35.994438Z",
     "iopub.status.idle": "2024-09-27T21:00:36.026244Z",
     "shell.execute_reply": "2024-09-27T21:00:36.024967Z"
    },
    "papermill": {
     "duration": 0.046893,
     "end_time": "2024-09-27T21:00:36.029594",
     "exception": false,
     "start_time": "2024-09-27T21:00:35.982701",
     "status": "completed"
    },
    "tags": []
   },
   "outputs": [
    {
     "data": {
      "text/html": [
       "<div>\n",
       "<style scoped>\n",
       "    .dataframe tbody tr th:only-of-type {\n",
       "        vertical-align: middle;\n",
       "    }\n",
       "\n",
       "    .dataframe tbody tr th {\n",
       "        vertical-align: top;\n",
       "    }\n",
       "\n",
       "    .dataframe thead th {\n",
       "        text-align: right;\n",
       "    }\n",
       "</style>\n",
       "<table border=\"1\" class=\"dataframe\">\n",
       "  <thead>\n",
       "    <tr style=\"text-align: right;\">\n",
       "      <th></th>\n",
       "      <th>AwardTitle</th>\n",
       "      <th>Division</th>\n",
       "      <th>AbstractNarration</th>\n",
       "      <th>file</th>\n",
       "    </tr>\n",
       "  </thead>\n",
       "  <tbody>\n",
       "    <tr>\n",
       "      <th>216</th>\n",
       "      <td>iEdison</td>\n",
       "      <td>General Counsel</td>\n",
       "      <td>None</td>\n",
       "      <td>2035012.xml</td>\n",
       "    </tr>\n",
       "    <tr>\n",
       "      <th>218</th>\n",
       "      <td>Intergovernmental Mobility Assignment (11/12/1...</td>\n",
       "      <td>Division Of Ocean Sciences</td>\n",
       "      <td>None</td>\n",
       "      <td>2010264.xml</td>\n",
       "    </tr>\n",
       "    <tr>\n",
       "      <th>268</th>\n",
       "      <td>III: Small: RUI: Collaborative Research: Model...</td>\n",
       "      <td>Div Of Information &amp; Intelligent Systems</td>\n",
       "      <td>None</td>\n",
       "      <td>2007128.xml</td>\n",
       "    </tr>\n",
       "    <tr>\n",
       "      <th>295</th>\n",
       "      <td>Intergovernmental Personnel Award</td>\n",
       "      <td>Div Of Civil, Mechanical, &amp; Manufact Inn</td>\n",
       "      <td>None</td>\n",
       "      <td>2050306.xml</td>\n",
       "    </tr>\n",
       "    <tr>\n",
       "      <th>343</th>\n",
       "      <td>Intergovernmental Personnel Award</td>\n",
       "      <td>Div Of Chem, Bioeng, Env, &amp; Transp Sys</td>\n",
       "      <td>None</td>\n",
       "      <td>2016297.xml</td>\n",
       "    </tr>\n",
       "    <tr>\n",
       "      <th>442</th>\n",
       "      <td>NIWC IT Security Support, FY21</td>\n",
       "      <td>Office of Polar Programs (OPP)</td>\n",
       "      <td>None</td>\n",
       "      <td>2041114.xml</td>\n",
       "    </tr>\n",
       "    <tr>\n",
       "      <th>601</th>\n",
       "      <td>Intergovernmental Mobility Assignment</td>\n",
       "      <td>Division Of Materials Research</td>\n",
       "      <td>None</td>\n",
       "      <td>2050333.xml</td>\n",
       "    </tr>\n",
       "    <tr>\n",
       "      <th>629</th>\n",
       "      <td>OIG Security Investigations</td>\n",
       "      <td>Office Of Inspector General</td>\n",
       "      <td>None</td>\n",
       "      <td>2016785.xml</td>\n",
       "    </tr>\n",
       "    <tr>\n",
       "      <th>743</th>\n",
       "      <td>The Intergovernmental Personnel Act (IPA) assi...</td>\n",
       "      <td>Division Of Astronomical Sciences</td>\n",
       "      <td>None</td>\n",
       "      <td>2013254.xml</td>\n",
       "    </tr>\n",
       "    <tr>\n",
       "      <th>793</th>\n",
       "      <td>FY2020 CFOC Federal Interagency Management Cou...</td>\n",
       "      <td>Office of Budget, Finance, &amp; Award Management</td>\n",
       "      <td>None</td>\n",
       "      <td>2040236.xml</td>\n",
       "    </tr>\n",
       "    <tr>\n",
       "      <th>811</th>\n",
       "      <td>Federal Investigations Reimbursable Billing</td>\n",
       "      <td>Division Of Administrative Services</td>\n",
       "      <td>None</td>\n",
       "      <td>2001271.xml</td>\n",
       "    </tr>\n",
       "    <tr>\n",
       "      <th>828</th>\n",
       "      <td>New Intergovernmental Personnel Award</td>\n",
       "      <td>Divn Of Social and Economic Sciences</td>\n",
       "      <td>None</td>\n",
       "      <td>2052226.xml</td>\n",
       "    </tr>\n",
       "    <tr>\n",
       "      <th>998</th>\n",
       "      <td>RUI: Empirical Measurements of Quasar Accretio...</td>\n",
       "      <td>Division Of Astronomical Sciences</td>\n",
       "      <td>None</td>\n",
       "      <td>2007680.xml</td>\n",
       "    </tr>\n",
       "    <tr>\n",
       "      <th>1113</th>\n",
       "      <td>Intergovernmental Personnel Act</td>\n",
       "      <td>Div. of Equity for Excellence in STEM</td>\n",
       "      <td>None</td>\n",
       "      <td>2039869.xml</td>\n",
       "    </tr>\n",
       "    <tr>\n",
       "      <th>1354</th>\n",
       "      <td>Intergovernmental Personnel Act (Mobility assi...</td>\n",
       "      <td>Division Of Undergraduate Education</td>\n",
       "      <td>None</td>\n",
       "      <td>2037967.xml</td>\n",
       "    </tr>\n",
       "    <tr>\n",
       "      <th>1364</th>\n",
       "      <td>DOI IBC</td>\n",
       "      <td>Division Of Human Resource Management</td>\n",
       "      <td>None</td>\n",
       "      <td>2054031.xml</td>\n",
       "    </tr>\n",
       "    <tr>\n",
       "      <th>1377</th>\n",
       "      <td>New IPA action for University of Florida</td>\n",
       "      <td>Division Of Earth Sciences</td>\n",
       "      <td>None</td>\n",
       "      <td>2053447.xml</td>\n",
       "    </tr>\n",
       "    <tr>\n",
       "      <th>1583</th>\n",
       "      <td>Intergovernmental Mobility Assignment</td>\n",
       "      <td>Division Of Research On Learning</td>\n",
       "      <td>None</td>\n",
       "      <td>2050562.xml</td>\n",
       "    </tr>\n",
       "    <tr>\n",
       "      <th>1648</th>\n",
       "      <td>Operations and Maintenance of National Science...</td>\n",
       "      <td>Office of Polar Programs (OPP)</td>\n",
       "      <td>None</td>\n",
       "      <td>2013642.xml</td>\n",
       "    </tr>\n",
       "    <tr>\n",
       "      <th>1768</th>\n",
       "      <td>IAA for R/V support</td>\n",
       "      <td>Division Of Ocean Sciences</td>\n",
       "      <td>None</td>\n",
       "      <td>2002401.xml</td>\n",
       "    </tr>\n",
       "    <tr>\n",
       "      <th>1870</th>\n",
       "      <td>IPA Award</td>\n",
       "      <td>CISE Information Technology Research</td>\n",
       "      <td>None</td>\n",
       "      <td>2001311.xml</td>\n",
       "    </tr>\n",
       "    <tr>\n",
       "      <th>2089</th>\n",
       "      <td>Intergovernmental Personnel Agreement</td>\n",
       "      <td>Division Of Chemistry</td>\n",
       "      <td>None</td>\n",
       "      <td>2050327.xml</td>\n",
       "    </tr>\n",
       "    <tr>\n",
       "      <th>2094</th>\n",
       "      <td>US Army Cold Regions Research and Engineering ...</td>\n",
       "      <td>Office of Polar Programs (OPP)</td>\n",
       "      <td>None</td>\n",
       "      <td>2030136.xml</td>\n",
       "    </tr>\n",
       "    <tr>\n",
       "      <th>2150</th>\n",
       "      <td>IPA Agreement with University of North Carolin...</td>\n",
       "      <td>Office of Advanced Cyberinfrastructure (OAC)</td>\n",
       "      <td>None</td>\n",
       "      <td>2038394.xml</td>\n",
       "    </tr>\n",
       "    <tr>\n",
       "      <th>2158</th>\n",
       "      <td>eRulemaking program annual contribution for FY20</td>\n",
       "      <td>General Counsel</td>\n",
       "      <td>None</td>\n",
       "      <td>2037595.xml</td>\n",
       "    </tr>\n",
       "  </tbody>\n",
       "</table>\n",
       "</div>"
      ],
      "text/plain": [
       "                                             AwardTitle  \\\n",
       "216                                             iEdison   \n",
       "218   Intergovernmental Mobility Assignment (11/12/1...   \n",
       "268   III: Small: RUI: Collaborative Research: Model...   \n",
       "295                   Intergovernmental Personnel Award   \n",
       "343                   Intergovernmental Personnel Award   \n",
       "442                      NIWC IT Security Support, FY21   \n",
       "601               Intergovernmental Mobility Assignment   \n",
       "629                         OIG Security Investigations   \n",
       "743   The Intergovernmental Personnel Act (IPA) assi...   \n",
       "793   FY2020 CFOC Federal Interagency Management Cou...   \n",
       "811         Federal Investigations Reimbursable Billing   \n",
       "828               New Intergovernmental Personnel Award   \n",
       "998   RUI: Empirical Measurements of Quasar Accretio...   \n",
       "1113                    Intergovernmental Personnel Act   \n",
       "1354  Intergovernmental Personnel Act (Mobility assi...   \n",
       "1364                                            DOI IBC   \n",
       "1377           New IPA action for University of Florida   \n",
       "1583              Intergovernmental Mobility Assignment   \n",
       "1648  Operations and Maintenance of National Science...   \n",
       "1768                                IAA for R/V support   \n",
       "1870                                          IPA Award   \n",
       "2089              Intergovernmental Personnel Agreement   \n",
       "2094  US Army Cold Regions Research and Engineering ...   \n",
       "2150  IPA Agreement with University of North Carolin...   \n",
       "2158   eRulemaking program annual contribution for FY20   \n",
       "\n",
       "                                           Division AbstractNarration  \\\n",
       "216                                 General Counsel              None   \n",
       "218                      Division Of Ocean Sciences              None   \n",
       "268        Div Of Information & Intelligent Systems              None   \n",
       "295        Div Of Civil, Mechanical, & Manufact Inn              None   \n",
       "343          Div Of Chem, Bioeng, Env, & Transp Sys              None   \n",
       "442                  Office of Polar Programs (OPP)              None   \n",
       "601                  Division Of Materials Research              None   \n",
       "629                     Office Of Inspector General              None   \n",
       "743               Division Of Astronomical Sciences              None   \n",
       "793   Office of Budget, Finance, & Award Management              None   \n",
       "811             Division Of Administrative Services              None   \n",
       "828            Divn Of Social and Economic Sciences              None   \n",
       "998               Division Of Astronomical Sciences              None   \n",
       "1113          Div. of Equity for Excellence in STEM              None   \n",
       "1354            Division Of Undergraduate Education              None   \n",
       "1364          Division Of Human Resource Management              None   \n",
       "1377                     Division Of Earth Sciences              None   \n",
       "1583               Division Of Research On Learning              None   \n",
       "1648                 Office of Polar Programs (OPP)              None   \n",
       "1768                     Division Of Ocean Sciences              None   \n",
       "1870           CISE Information Technology Research              None   \n",
       "2089                          Division Of Chemistry              None   \n",
       "2094                 Office of Polar Programs (OPP)              None   \n",
       "2150   Office of Advanced Cyberinfrastructure (OAC)              None   \n",
       "2158                                General Counsel              None   \n",
       "\n",
       "             file  \n",
       "216   2035012.xml  \n",
       "218   2010264.xml  \n",
       "268   2007128.xml  \n",
       "295   2050306.xml  \n",
       "343   2016297.xml  \n",
       "442   2041114.xml  \n",
       "601   2050333.xml  \n",
       "629   2016785.xml  \n",
       "743   2013254.xml  \n",
       "793   2040236.xml  \n",
       "811   2001271.xml  \n",
       "828   2052226.xml  \n",
       "998   2007680.xml  \n",
       "1113  2039869.xml  \n",
       "1354  2037967.xml  \n",
       "1364  2054031.xml  \n",
       "1377  2053447.xml  \n",
       "1583  2050562.xml  \n",
       "1648  2013642.xml  \n",
       "1768  2002401.xml  \n",
       "1870  2001311.xml  \n",
       "2089  2050327.xml  \n",
       "2094  2030136.xml  \n",
       "2150  2038394.xml  \n",
       "2158  2037595.xml  "
      ]
     },
     "execution_count": 11,
     "metadata": {},
     "output_type": "execute_result"
    }
   ],
   "source": [
    "df1.query(\"AbstractNarration.isna()\")"
   ]
  },
  {
   "cell_type": "code",
   "execution_count": 12,
   "id": "81d54148",
   "metadata": {
    "execution": {
     "iopub.execute_input": "2024-09-27T21:00:36.054535Z",
     "iopub.status.busy": "2024-09-27T21:00:36.053103Z",
     "iopub.status.idle": "2024-09-27T21:00:36.069561Z",
     "shell.execute_reply": "2024-09-27T21:00:36.068301Z"
    },
    "papermill": {
     "duration": 0.032134,
     "end_time": "2024-09-27T21:00:36.072637",
     "exception": false,
     "start_time": "2024-09-27T21:00:36.040503",
     "status": "completed"
    },
    "tags": []
   },
   "outputs": [],
   "source": [
    "# Seems that they are just empty. I will drop all empty records on AbstractNarration.\n",
    "for child in read_single_xml(\"2051285.xml\").find('./Award/AbstractNarration'):\n",
    "    print(child.tag, child.attrib)\n",
    "    \n",
    "for child in read_single_xml(\"2026426.xml\").find('./Award/AbstractNarration'):\n",
    "    print(child.tag, child.attrib)"
   ]
  },
  {
   "cell_type": "code",
   "execution_count": 13,
   "id": "89dda492",
   "metadata": {
    "execution": {
     "iopub.execute_input": "2024-09-27T21:00:36.097456Z",
     "iopub.status.busy": "2024-09-27T21:00:36.096481Z",
     "iopub.status.idle": "2024-09-27T21:00:36.109336Z",
     "shell.execute_reply": "2024-09-27T21:00:36.108169Z"
    },
    "papermill": {
     "duration": 0.028946,
     "end_time": "2024-09-27T21:00:36.112459",
     "exception": false,
     "start_time": "2024-09-27T21:00:36.083513",
     "status": "completed"
    },
    "tags": []
   },
   "outputs": [],
   "source": [
    "df1.dropna(subset=[\"AbstractNarration\"], inplace=True)"
   ]
  },
  {
   "cell_type": "code",
   "execution_count": 14,
   "id": "fb87f106",
   "metadata": {
    "execution": {
     "iopub.execute_input": "2024-09-27T21:00:36.136909Z",
     "iopub.status.busy": "2024-09-27T21:00:36.135890Z",
     "iopub.status.idle": "2024-09-27T21:00:37.505993Z",
     "shell.execute_reply": "2024-09-27T21:00:37.504582Z"
    },
    "papermill": {
     "duration": 1.385576,
     "end_time": "2024-09-27T21:00:37.509024",
     "exception": false,
     "start_time": "2024-09-27T21:00:36.123448",
     "status": "completed"
    },
    "tags": []
   },
   "outputs": [
    {
     "name": "stdout",
     "output_type": "stream",
     "text": [
      "[nltk_data] Downloading package wordnet to /kaggle/working/...\n",
      "Archive:  /kaggle/working/corpora/wordnet.zip\n",
      "   creating: /kaggle/working/corpora/wordnet/\n",
      "  inflating: /kaggle/working/corpora/wordnet/lexnames  \n",
      "  inflating: /kaggle/working/corpora/wordnet/data.verb  \n",
      "  inflating: /kaggle/working/corpora/wordnet/index.adv  \n",
      "  inflating: /kaggle/working/corpora/wordnet/adv.exc  \n",
      "  inflating: /kaggle/working/corpora/wordnet/index.verb  \n",
      "  inflating: /kaggle/working/corpora/wordnet/cntlist.rev  \n",
      "  inflating: /kaggle/working/corpora/wordnet/data.adj  \n",
      "  inflating: /kaggle/working/corpora/wordnet/index.adj  \n",
      "  inflating: /kaggle/working/corpora/wordnet/LICENSE  \n",
      "  inflating: /kaggle/working/corpora/wordnet/citation.bib  \n",
      "  inflating: /kaggle/working/corpora/wordnet/noun.exc  \n",
      "  inflating: /kaggle/working/corpora/wordnet/verb.exc  \n",
      "  inflating: /kaggle/working/corpora/wordnet/README  \n",
      "  inflating: /kaggle/working/corpora/wordnet/index.sense  \n",
      "  inflating: /kaggle/working/corpora/wordnet/data.noun  \n",
      "  inflating: /kaggle/working/corpora/wordnet/data.adv  \n",
      "  inflating: /kaggle/working/corpora/wordnet/index.noun  \n",
      "  inflating: /kaggle/working/corpora/wordnet/adj.exc  \n"
     ]
    }
   ],
   "source": [
    "import nltk\n",
    "import subprocess\n",
    "\n",
    "# Download and unzip wordnet\n",
    "try:\n",
    "    nltk.data.find('wordnet.zip')\n",
    "except:\n",
    "    nltk.download('wordnet', download_dir='/kaggle/working/')\n",
    "    command = \"unzip /kaggle/working/corpora/wordnet.zip -d /kaggle/working/corpora\"\n",
    "    subprocess.run(command.split())\n",
    "    nltk.data.path.append('/kaggle/working/')"
   ]
  },
  {
   "cell_type": "code",
   "execution_count": 15,
   "id": "1aa2a16a",
   "metadata": {
    "execution": {
     "iopub.execute_input": "2024-09-27T21:00:37.534251Z",
     "iopub.status.busy": "2024-09-27T21:00:37.533673Z",
     "iopub.status.idle": "2024-09-27T21:00:45.366590Z",
     "shell.execute_reply": "2024-09-27T21:00:45.365231Z"
    },
    "papermill": {
     "duration": 7.849475,
     "end_time": "2024-09-27T21:00:45.369880",
     "exception": false,
     "start_time": "2024-09-27T21:00:37.520405",
     "status": "completed"
    },
    "tags": []
   },
   "outputs": [],
   "source": [
    "import string\n",
    "from nltk.corpus import stopwords\n",
    "from nltk.stem import WordNetLemmatizer\n",
    "\n",
    "lemmatizer = WordNetLemmatizer()\n",
    "stop_words = set(stopwords.words(\"english\"))\n",
    "\n",
    "def clean_text(text):\n",
    "    text = text.lower().translate(str.maketrans('','',string.punctuation))\n",
    "    text = ' '.join([lemmatizer.lemmatize(word) for word in text.split() if word not in stop_words])\n",
    "    return text\n",
    "\n",
    "df1['AwardTitle_clean'] = df1.AwardTitle.apply(clean_text)\n",
    "df1['Division_clean'] = df1.Division.apply(clean_text)\n",
    "df1['AbstractNarration_clean'] = df1.AbstractNarration.apply(clean_text)"
   ]
  },
  {
   "cell_type": "code",
   "execution_count": 16,
   "id": "024a80fc",
   "metadata": {
    "execution": {
     "iopub.execute_input": "2024-09-27T21:00:45.394095Z",
     "iopub.status.busy": "2024-09-27T21:00:45.393574Z",
     "iopub.status.idle": "2024-09-27T21:00:45.410624Z",
     "shell.execute_reply": "2024-09-27T21:00:45.409481Z"
    },
    "papermill": {
     "duration": 0.032273,
     "end_time": "2024-09-27T21:00:45.413360",
     "exception": false,
     "start_time": "2024-09-27T21:00:45.381087",
     "status": "completed"
    },
    "tags": []
   },
   "outputs": [
    {
     "data": {
      "text/html": [
       "<div>\n",
       "<style scoped>\n",
       "    .dataframe tbody tr th:only-of-type {\n",
       "        vertical-align: middle;\n",
       "    }\n",
       "\n",
       "    .dataframe tbody tr th {\n",
       "        vertical-align: top;\n",
       "    }\n",
       "\n",
       "    .dataframe thead th {\n",
       "        text-align: right;\n",
       "    }\n",
       "</style>\n",
       "<table border=\"1\" class=\"dataframe\">\n",
       "  <thead>\n",
       "    <tr style=\"text-align: right;\">\n",
       "      <th></th>\n",
       "      <th>AwardTitle</th>\n",
       "      <th>Division</th>\n",
       "      <th>AbstractNarration</th>\n",
       "      <th>file</th>\n",
       "      <th>AwardTitle_clean</th>\n",
       "      <th>Division_clean</th>\n",
       "      <th>AbstractNarration_clean</th>\n",
       "    </tr>\n",
       "  </thead>\n",
       "  <tbody>\n",
       "    <tr>\n",
       "      <th>0</th>\n",
       "      <td>CAREER: Community Organizing for Datafied Worlds</td>\n",
       "      <td>Div Of Information &amp; Intelligent Systems</td>\n",
       "      <td>This project describes how professional commun...</td>\n",
       "      <td>2047255.xml</td>\n",
       "      <td>career community organizing datafied world</td>\n",
       "      <td>div information intelligent system</td>\n",
       "      <td>project describes professional community organ...</td>\n",
       "    </tr>\n",
       "    <tr>\n",
       "      <th>1</th>\n",
       "      <td>Dynamic Discrete Choice Estimation with Partia...</td>\n",
       "      <td>Div Of Civil, Mechanical, &amp; Manufact Inn</td>\n",
       "      <td>This award will investigate rigorous methods f...</td>\n",
       "      <td>2048395.xml</td>\n",
       "      <td>dynamic discrete choice estimation partially o...</td>\n",
       "      <td>div civil mechanical manufact inn</td>\n",
       "      <td>award investigate rigorous method datadriven m...</td>\n",
       "    </tr>\n",
       "    <tr>\n",
       "      <th>2</th>\n",
       "      <td>Ion and ligand interactions of hyaluronic acid</td>\n",
       "      <td>Division Of Materials Research</td>\n",
       "      <td>NONTECHNICAL ABSTRACT&lt;br/&gt;Hyaluronic acid is a...</td>\n",
       "      <td>2005189.xml</td>\n",
       "      <td>ion ligand interaction hyaluronic acid</td>\n",
       "      <td>division material research</td>\n",
       "      <td>nontechnical abstractbrhyaluronic acid biologi...</td>\n",
       "    </tr>\n",
       "    <tr>\n",
       "      <th>3</th>\n",
       "      <td>High-intensity focused ultrasound (HIFU) energ...</td>\n",
       "      <td>Div Of Chem, Bioeng, Env, &amp; Transp Sys</td>\n",
       "      <td>High-intensity focused ultrasound (HIFU) ablat...</td>\n",
       "      <td>2045234.xml</td>\n",
       "      <td>highintensity focused ultrasound hifu energize...</td>\n",
       "      <td>div chem bioeng env transp sys</td>\n",
       "      <td>highintensity focused ultrasound hifu ablation...</td>\n",
       "    </tr>\n",
       "    <tr>\n",
       "      <th>4</th>\n",
       "      <td>CAREER: Designing a Synthetic Nucleolus for Ce...</td>\n",
       "      <td>Division Of Materials Research</td>\n",
       "      <td>Non-Technical Abstract: &lt;br/&gt;&lt;br/&gt;This researc...</td>\n",
       "      <td>2045454.xml</td>\n",
       "      <td>career designing synthetic nucleolus cell free...</td>\n",
       "      <td>division material research</td>\n",
       "      <td>nontechnical abstract brbrthis research develo...</td>\n",
       "    </tr>\n",
       "  </tbody>\n",
       "</table>\n",
       "</div>"
      ],
      "text/plain": [
       "                                          AwardTitle  \\\n",
       "0   CAREER: Community Organizing for Datafied Worlds   \n",
       "1  Dynamic Discrete Choice Estimation with Partia...   \n",
       "2     Ion and ligand interactions of hyaluronic acid   \n",
       "3  High-intensity focused ultrasound (HIFU) energ...   \n",
       "4  CAREER: Designing a Synthetic Nucleolus for Ce...   \n",
       "\n",
       "                                   Division  \\\n",
       "0  Div Of Information & Intelligent Systems   \n",
       "1  Div Of Civil, Mechanical, & Manufact Inn   \n",
       "2            Division Of Materials Research   \n",
       "3    Div Of Chem, Bioeng, Env, & Transp Sys   \n",
       "4            Division Of Materials Research   \n",
       "\n",
       "                                   AbstractNarration         file  \\\n",
       "0  This project describes how professional commun...  2047255.xml   \n",
       "1  This award will investigate rigorous methods f...  2048395.xml   \n",
       "2  NONTECHNICAL ABSTRACT<br/>Hyaluronic acid is a...  2005189.xml   \n",
       "3  High-intensity focused ultrasound (HIFU) ablat...  2045234.xml   \n",
       "4  Non-Technical Abstract: <br/><br/>This researc...  2045454.xml   \n",
       "\n",
       "                                    AwardTitle_clean  \\\n",
       "0         career community organizing datafied world   \n",
       "1  dynamic discrete choice estimation partially o...   \n",
       "2             ion ligand interaction hyaluronic acid   \n",
       "3  highintensity focused ultrasound hifu energize...   \n",
       "4  career designing synthetic nucleolus cell free...   \n",
       "\n",
       "                       Division_clean  \\\n",
       "0  div information intelligent system   \n",
       "1   div civil mechanical manufact inn   \n",
       "2          division material research   \n",
       "3      div chem bioeng env transp sys   \n",
       "4          division material research   \n",
       "\n",
       "                             AbstractNarration_clean  \n",
       "0  project describes professional community organ...  \n",
       "1  award investigate rigorous method datadriven m...  \n",
       "2  nontechnical abstractbrhyaluronic acid biologi...  \n",
       "3  highintensity focused ultrasound hifu ablation...  \n",
       "4  nontechnical abstract brbrthis research develo...  "
      ]
     },
     "execution_count": 16,
     "metadata": {},
     "output_type": "execute_result"
    }
   ],
   "source": [
    "# Now, surely there are a bunch of words that are similar to each other, for example, the division_clean column has two different ways to refers to word\n",
    "# \"division\": Division and div.\n",
    "df1.head()"
   ]
  },
  {
   "cell_type": "markdown",
   "id": "4390d163",
   "metadata": {
    "papermill": {
     "duration": 0.011069,
     "end_time": "2024-09-27T21:00:45.435771",
     "exception": false,
     "start_time": "2024-09-27T21:00:45.424702",
     "status": "completed"
    },
    "tags": []
   },
   "source": [
    "## Word exploration\n",
    "\n",
    "As part of the EDA, I'm visualizing and seeing the most common words.\n",
    "\n",
    "Focusing particularly in the Division name, I saw there a lot of abbreviations that should be managed. I'm *supposing* that the division will help to build a knowledge herarchy since I found words like `system`, `mathematical` and `education`.\n",
    "\n",
    "The approach I'll be using to deal with abbreviations is using a fuzzy matching to identify most related words.\n",
    "\n",
    "To identify abbreviations I will plot a histogram of the number of letters in a word to get the cut-off point bettween abbreviations and whole words."
   ]
  },
  {
   "cell_type": "code",
   "execution_count": 17,
   "id": "ea0ed376",
   "metadata": {
    "execution": {
     "iopub.execute_input": "2024-09-27T21:00:45.460708Z",
     "iopub.status.busy": "2024-09-27T21:00:45.460152Z",
     "iopub.status.idle": "2024-09-27T21:00:45.712165Z",
     "shell.execute_reply": "2024-09-27T21:00:45.710722Z"
    },
    "papermill": {
     "duration": 0.268644,
     "end_time": "2024-09-27T21:00:45.715718",
     "exception": false,
     "start_time": "2024-09-27T21:00:45.447074",
     "status": "completed"
    },
    "tags": []
   },
   "outputs": [],
   "source": [
    "# I'm getting the 20 most common words to start with a exploration.\n",
    "from collections import Counter\n",
    "\n",
    "award_title_words = Counter(' '.join(df1['AwardTitle_clean']).split()).most_common(20)\n",
    "division_name_words = Counter(' '.join(df1['Division_clean']).split()).most_common(20)\n",
    "abstract_narration_words = Counter(' '.join(df1['AbstractNarration_clean']).split()).most_common(20)"
   ]
  },
  {
   "cell_type": "code",
   "execution_count": 18,
   "id": "b577f751",
   "metadata": {
    "execution": {
     "iopub.execute_input": "2024-09-27T21:00:45.740865Z",
     "iopub.status.busy": "2024-09-27T21:00:45.740329Z",
     "iopub.status.idle": "2024-09-27T21:00:45.749924Z",
     "shell.execute_reply": "2024-09-27T21:00:45.748407Z"
    },
    "papermill": {
     "duration": 0.025243,
     "end_time": "2024-09-27T21:00:45.752559",
     "exception": false,
     "start_time": "2024-09-27T21:00:45.727316",
     "status": "completed"
    },
    "tags": []
   },
   "outputs": [
    {
     "data": {
      "text/plain": [
       "[('division', 1187),\n",
       " ('div', 634),\n",
       " ('science', 505),\n",
       " ('system', 268),\n",
       " ('sys', 182),\n",
       " ('translational', 176),\n",
       " ('impact', 176),\n",
       " ('mathematical', 162),\n",
       " ('education', 155),\n",
       " ('research', 134),\n",
       " ('computer', 126),\n",
       " ('network', 126),\n",
       " ('civil', 117),\n",
       " ('mechanical', 117),\n",
       " ('manufact', 117),\n",
       " ('inn', 117),\n",
       " ('undergraduate', 111),\n",
       " ('chem', 107),\n",
       " ('bioeng', 107),\n",
       " ('env', 107)]"
      ]
     },
     "execution_count": 18,
     "metadata": {},
     "output_type": "execute_result"
    }
   ],
   "source": [
    "# Example of abbreviations are division and div; system and sys. \n",
    "division_name_words"
   ]
  },
  {
   "cell_type": "code",
   "execution_count": 19,
   "id": "1d02b4c9",
   "metadata": {
    "execution": {
     "iopub.execute_input": "2024-09-27T21:00:45.778180Z",
     "iopub.status.busy": "2024-09-27T21:00:45.777624Z",
     "iopub.status.idle": "2024-09-27T21:00:45.786905Z",
     "shell.execute_reply": "2024-09-27T21:00:45.785380Z"
    },
    "papermill": {
     "duration": 0.025241,
     "end_time": "2024-09-27T21:00:45.789666",
     "exception": false,
     "start_time": "2024-09-27T21:00:45.764425",
     "status": "completed"
    },
    "tags": []
   },
   "outputs": [],
   "source": [
    "div_vocab = Counter(' '.join(df1['Division_clean']).split()).keys()"
   ]
  },
  {
   "cell_type": "code",
   "execution_count": 20,
   "id": "543e496b",
   "metadata": {
    "execution": {
     "iopub.execute_input": "2024-09-27T21:00:45.815596Z",
     "iopub.status.busy": "2024-09-27T21:00:45.814532Z",
     "iopub.status.idle": "2024-09-27T21:00:45.868939Z",
     "shell.execute_reply": "2024-09-27T21:00:45.867670Z"
    },
    "papermill": {
     "duration": 0.072169,
     "end_time": "2024-09-27T21:00:45.873598",
     "exception": false,
     "start_time": "2024-09-27T21:00:45.801429",
     "status": "completed"
    },
    "tags": []
   },
   "outputs": [
    {
     "name": "stdout",
     "output_type": "stream",
     "text": [
      "[('division', 90)]\n",
      "[('system', 90)]\n"
     ]
    },
    {
     "name": "stderr",
     "output_type": "stream",
     "text": [
      "/opt/conda/lib/python3.10/site-packages/fuzzywuzzy/fuzz.py:11: UserWarning: Using slow pure-python SequenceMatcher. Install python-Levenshtein to remove this warning\n",
      "  warnings.warn('Using slow pure-python SequenceMatcher. Install python-Levenshtein to remove this warning')\n"
     ]
    }
   ],
   "source": [
    "from fuzzywuzzy import fuzz, process\n",
    "print(process.extractBests(\"div\", div_vocab)[1:2])\n",
    "print(process.extractBests(\"sys\", div_vocab)[1:2])"
   ]
  },
  {
   "cell_type": "code",
   "execution_count": 21,
   "id": "d50fac80",
   "metadata": {
    "execution": {
     "iopub.execute_input": "2024-09-27T21:00:45.900247Z",
     "iopub.status.busy": "2024-09-27T21:00:45.899724Z",
     "iopub.status.idle": "2024-09-27T21:00:45.906924Z",
     "shell.execute_reply": "2024-09-27T21:00:45.905653Z"
    },
    "papermill": {
     "duration": 0.024202,
     "end_time": "2024-09-27T21:00:45.909722",
     "exception": false,
     "start_time": "2024-09-27T21:00:45.885520",
     "status": "completed"
    },
    "tags": []
   },
   "outputs": [],
   "source": [
    "from fuzzywuzzy import fuzz, process\n",
    "\n",
    "# Function to find the closest match using fuzzy matching\n",
    "def fuzzy_match_abbreviation(words, full_terms):\n",
    "    return [process.extractBests(word, full_terms, limit=3) for word in words]\n",
    "#     return ' '.join([process.extractOne(word, full_terms)[0] if fuzz.ratio(word, process.extractOne(word, full_terms)[0]) > 80 else word for word in words])\n",
    "\n",
    "# Apply fuzzy matching on the relevant text columns\n",
    "# df['AwardTitle_fuzzy'] = df['AwardTitle_clean'].apply(lambda x: fuzzy_match_abbreviation(x, full_terms))\n"
   ]
  },
  {
   "cell_type": "code",
   "execution_count": 22,
   "id": "cd33db58",
   "metadata": {
    "execution": {
     "iopub.execute_input": "2024-09-27T21:00:45.935651Z",
     "iopub.status.busy": "2024-09-27T21:00:45.935075Z",
     "iopub.status.idle": "2024-09-27T21:00:47.849473Z",
     "shell.execute_reply": "2024-09-27T21:00:47.848226Z"
    },
    "papermill": {
     "duration": 1.93103,
     "end_time": "2024-09-27T21:00:47.852693",
     "exception": false,
     "start_time": "2024-09-27T21:00:45.921663",
     "status": "completed"
    },
    "tags": []
   },
   "outputs": [
    {
     "data": {
      "text/plain": [
       "[[('div', 100), ('division', 90), ('divn', 86)],\n",
       " [('information', 100), ('innovation', 76), ('foundation', 67)],\n",
       " [('intelligent', 100), ('inn', 60), ('env', 60)],\n",
       " [('system', 100), ('sys', 90), ('stem', 90)],\n",
       " [('civil', 100), ('activity', 72), ('div', 60)],\n",
       " [('mechanical', 100), ('mathematical', 64), ('behavioral', 60)],\n",
       " [('manufact', 100), ('oac', 60), ('impact', 57)],\n",
       " [('inn', 100), ('innovation', 90), ('information', 60)],\n",
       " [('division', 100), ('div', 90), ('divn', 68)],\n",
       " [('material', 100), ('mathematical', 70), ('internatl', 59)],\n",
       " [('research', 100), ('re', 90), ('earth', 72)],\n",
       " [('chem', 100), ('chemistry', 90), ('mathematical', 68)],\n",
       " [('bioeng', 100), ('biology', 62), ('bioscience', 62)],\n",
       " [('env', 100), ('environmental', 90), ('intelligent', 60)],\n",
       " [('transp', 100), ('translational', 75), ('organismal', 60)],\n",
       " [('sys', 100), ('system', 90), ('ecosystem', 90)],\n",
       " [('office', 100), ('oiaoffice', 90), ('chem', 60)],\n",
       " [('polar', 100), ('oac', 60), ('re', 60)],\n",
       " [('program', 100), ('undergraduate', 51), ('organismal', 47)],\n",
       " [('opp', 100), ('atmospheric', 60), ('geospace', 60)],\n",
       " [('mathematical', 100), ('material', 70), ('chem', 68)],\n",
       " [('science', 100), ('sci', 90), ('bioscience', 82)],\n",
       " [('atmospheric', 100), ('opp', 60), ('physic', 60)],\n",
       " [('geospace', 100), ('chem', 60), ('opp', 60)],\n",
       " [('translational', 100), ('transp', 75), ('inn', 60)],\n",
       " [('impact', 100), ('oac', 60), ('manufact', 57)],\n",
       " [('chemistry', 100), ('chem', 90), ('equity', 53)],\n",
       " [('graduate', 100), ('undergraduate', 90), ('edu', 60)],\n",
       " [('education', 100), ('edu', 90), ('communication', 64)],\n",
       " [('computing', 100), ('computer', 71), ('commun', 67)],\n",
       " [('communication', 100), ('commun', 90), ('foundation', 70)],\n",
       " [('foundation', 100), ('communication', 70), ('information', 67)],\n",
       " [('earth', 100), ('research', 72), ('mathematical', 54)],\n",
       " [('behavioral', 100), ('mechanical', 60), ('oac', 60)],\n",
       " [('cognitive', 100), ('div', 60), ('frontier', 59)],\n",
       " [('sci', 100), ('science', 90), ('multidisciplinary', 90)],\n",
       " [('biological', 100), ('biology', 71), ('bioeng', 60)],\n",
       " [('infrastructure', 100), ('re', 90), ('cyberinfrastructure', 85)],\n",
       " [('oiaoffice', 100), ('office', 90), ('chem', 60)],\n",
       " [('integrative', 100), ('internatl', 70), ('div', 60)],\n",
       " [('activity', 100), ('civil', 72), ('div', 60)],\n",
       " [('ocean', 100), ('env', 60), ('oac', 60)],\n",
       " [('environmental', 100), ('env', 90), ('ocean', 54)],\n",
       " [('biology', 100), ('biological', 71), ('bioeng', 62)],\n",
       " [('computer', 100), ('computing', 71), ('opp', 60)],\n",
       " [('network', 100), ('center', 46), ('re', 45)],\n",
       " [('electrical', 100), ('mechanical', 60), ('material', 56)],\n",
       " [('commun', 100), ('communication', 90), ('computing', 67)],\n",
       " [('cyber', 100), ('cyberinfrastructure', 90), ('re', 60)],\n",
       " [('divn', 100), ('div', 86), ('division', 68)],\n",
       " [('social', 100), ('sci', 67), ('biological', 60)],\n",
       " [('economic', 100), ('astronomical', 68), ('mechanical', 56)],\n",
       " [('organismal', 100), ('transp', 60), ('ocean', 54)],\n",
       " [('advanced', 100), ('edu', 72), ('divn', 68)],\n",
       " [('cyberinfrastructure', 100), ('cyber', 90), ('infrastructure', 85)],\n",
       " [('oac', 100), ('manufact', 60), ('research', 60)],\n",
       " [('undergraduate', 100), ('graduate', 90), ('edu', 60)],\n",
       " [('equity', 100), ('edu', 60), ('chemistry', 53)],\n",
       " [('excellence', 100), ('env', 60), ('science', 59)],\n",
       " [('stem', 100), ('system', 90), ('ecosystem', 90)],\n",
       " [('emerging', 100), ('learning', 62), ('inn', 60)],\n",
       " [('frontier', 100), ('cognitive', 59), ('center', 57)],\n",
       " [('astronomical', 100), ('economic', 68), ('material', 60)],\n",
       " [('internatl', 100), ('integrative', 70), ('intelligent', 60)],\n",
       " [('engineering', 100), ('inn', 60), ('env', 60)],\n",
       " [('physic', 100), ('sys', 60), ('atmospheric', 60)],\n",
       " [('re', 100), ('research', 90), ('infrastructure', 90)],\n",
       " [('innovation', 100), ('inn', 90), ('information', 76)],\n",
       " [('synergy', 100), ('sys', 60), ('undergraduate', 51)],\n",
       " [('edu', 100), ('education', 90), ('advanced', 72)],\n",
       " [('sbe', 100), ('system', 60), ('research', 60)],\n",
       " [('multidisciplinary', 100), ('sci', 90), ('div', 60)],\n",
       " [('molecular', 100), ('re', 60), ('edu', 60)],\n",
       " [('cellular', 100), ('re', 60), ('molecular', 59)],\n",
       " [('bioscience', 100), ('sci', 90), ('science', 82)],\n",
       " [('learning', 100), ('emerging', 62), ('inn', 60)],\n",
       " [('center', 100), ('env', 60), ('integrative', 60)],\n",
       " [('technology', 100), ('biology', 59), ('mechanical', 50)],\n",
       " [('ecosystem', 100), ('system', 90), ('sys', 90)],\n",
       " [('human', 100), ('mechanical', 54), ('manufact', 54)],\n",
       " [('resource', 100), ('re', 90), ('research', 62)],\n",
       " [('management', 100), ('env', 60), ('manufact', 56)]]"
      ]
     },
     "execution_count": 22,
     "metadata": {},
     "output_type": "execute_result"
    }
   ],
   "source": [
    "fuzzy_match_abbreviation(div_vocab, div_vocab)"
   ]
  },
  {
   "cell_type": "code",
   "execution_count": 23,
   "id": "15857623",
   "metadata": {
    "execution": {
     "iopub.execute_input": "2024-09-27T21:00:47.879366Z",
     "iopub.status.busy": "2024-09-27T21:00:47.878827Z",
     "iopub.status.idle": "2024-09-27T21:00:48.721346Z",
     "shell.execute_reply": "2024-09-27T21:00:48.720188Z"
    },
    "papermill": {
     "duration": 0.860849,
     "end_time": "2024-09-27T21:00:48.725518",
     "exception": false,
     "start_time": "2024-09-27T21:00:47.864669",
     "status": "completed"
    },
    "tags": []
   },
   "outputs": [
    {
     "data": {
      "image/png": "[encoded data removed]",
      "text/plain": [
       "<Figure size 640x480 with 1 Axes>"
      ]
     },
     "metadata": {},
     "output_type": "display_data"
    }
   ],
   "source": [
    "from wordcloud import WordCloud\n",
    "import matplotlib.pyplot as plt\n",
    "\n",
    "wordcloud = WordCloud(width=800, height=400, max_words=100).generate(' '.join(df1['Division_clean']))\n",
    "plt.imshow(wordcloud, interpolation='bilinear')\n",
    "plt.axis('off')\n",
    "plt.show()"
   ]
  }
 ],
 "metadata": {
  "kaggle": {
   "accelerator": "none",
   "dataSources": [
    {
     "datasetId": 5774128,
     "sourceId": 9490588,
     "sourceType": "datasetVersion"
    }
   ],
   "dockerImageVersionId": 30775,
   "isGpuEnabled": false,
   "isInternetEnabled": true,
   "language": "python",
   "sourceType": "notebook"
  },
  "kernelspec": {
   "display_name": "Python 3",
   "language": "python",
   "name": "python3"
  },
  "language_info": {
   "codemirror_mode": {
    "name": "ipython",
    "version": 3
   },
   "file_extension": ".py",
   "mimetype": "text/x-python",
   "name": "python",
   "nbconvert_exporter": "python",
   "pygments_lexer": "ipython3",
   "version": "3.10.14"
  },
  "papermill": {
   "default_parameters": {},
   "duration": 34.235642,
   "end_time": "2024-09-27T21:00:49.764221",
   "environment_variables": {},
   "exception": null,
   "input_path": "__notebook__.ipynb",
   "output_path": "__notebook__.ipynb",
   "parameters": {},
   "start_time": "2024-09-27T21:00:15.528579",
   "version": "2.6.0"
  }
 },
 "nbformat": 4,
 "nbformat_minor": 5
}
